{
 "cells": [
  {
   "cell_type": "markdown",
   "metadata": {},
   "source": [
    "Program to create the tree for questions 1 and 4"
   ]
  },
  {
   "cell_type": "code",
   "execution_count": 3,
   "metadata": {},
   "outputs": [
    {
     "name": "stdout",
     "output_type": "stream",
     "text": [
      "Enter Root2\n",
      "Enter next node1\n",
      "Enter 1 to continue or 0 to stop1\n",
      "Enter next node3\n",
      "Enter 1 to continue or 0 to stop1\n",
      "Enter next node4\n",
      "Enter 1 to continue or 0 to stop1\n",
      "Enter next node5\n",
      "Enter 1 to continue or 0 to stop1\n",
      "Enter next node6\n",
      "Enter 1 to continue or 0 to stop0\n",
      "1\n",
      "2\n",
      "3\n",
      "4\n",
      "5\n",
      "6\n"
     ]
    }
   ],
   "source": [
    "class node:\n",
    "    def __init__(self, data):\n",
    "\n",
    "        self.left = None\n",
    "        self.right = None\n",
    "        self.data = data\n",
    "        \n",
    "\n",
    "    def printTree(self):\n",
    "        if self.left:\n",
    "            self.left.printTree()\n",
    "        print( self.data),\n",
    "        if self.right:\n",
    "            self.right.printTree()\n",
    "\n",
    "    def insert(self, data):\n",
    "        if self.data:\n",
    "            if data < self.data:\n",
    "                if self.left is None:\n",
    "                    self.left = node(data)\n",
    "                else:\n",
    "                    self.left.insert(data)\n",
    "            elif data > self.data:\n",
    "                if self.right is None:\n",
    "                    self.right = node(data)\n",
    "                else:\n",
    "                    self.right.insert(data)\n",
    "        else:\n",
    "            self.data = data\n",
    "                   \n",
    "        \n",
    "rootnode=int(input(\"Enter Root\"))\n",
    "root=node(rootnode)\n",
    "\n",
    "flag=1\n",
    "while(flag!=0):\n",
    "    newnode=int(input(\"Enter next node\"))\n",
    "    root.insert(newnode)\n",
    "    flag=int(input(\"Enter 1 to continue or 0 to stop\"))\n",
    "    \n",
    "root.printTree()"
   ]
  },
  {
   "cell_type": "markdown",
   "metadata": {},
   "source": [
    "Question 4:"
   ]
  },
  {
   "cell_type": "code",
   "execution_count": 1,
   "metadata": {},
   "outputs": [],
   "source": [
    "def height(node): \n",
    "        if node is None: \n",
    "            return 0 \n",
    "        else :   \n",
    "            lheight = height(node.left) \n",
    "            rheight = height(node.right)  \n",
    "            if lheight > rheight : \n",
    "                return lheight+1\n",
    "            else: \n",
    "                return rheight+1\n",
    "            \n",
    "def printGivenLevel(root , level): \n",
    "    if root is None: \n",
    "        return\n",
    "    if level == 1: \n",
    "        print(root.data,end=\" \") \n",
    "    elif level > 1 : \n",
    "        printGivenLevel(root.left , level-1) \n",
    "        printGivenLevel(root.right , level-1)\n",
    "        \n",
    "def printLevelOrder(root): \n",
    "    h = height(root) \n",
    "    for i in range(1, h+1): \n",
    "        printGivenLevel(root, i)\n",
    "\n",
    "printLevelOrder(root)"
   ]
  },
  {
   "cell_type": "markdown",
   "metadata": {},
   "source": [
    "Question 1:"
   ]
  },
  {
   "cell_type": "code",
   "execution_count": 23,
   "metadata": {},
   "outputs": [
    {
     "name": "stdout",
     "output_type": "stream",
     "text": [
      "Enter first value5\n",
      "Enter second value6\n",
      "4    3\n"
     ]
    }
   ],
   "source": [
    "def pathfetch(node,val,path):\n",
    "    if (node==None):\n",
    "        print(\"Not Found\")\n",
    "    #print (node.data,\"  \",val)\n",
    "    if(node.data==val):\n",
    "        return path\n",
    "    elif (node.data>val):\n",
    "        path.append(node.data)\n",
    "        path=pathfetch(node.left,val,path)\n",
    "    else :\n",
    "        path.append(node.data)\n",
    "        path=pathfetch(node.right,val,path)\n",
    "    return path\n",
    "\n",
    "\n",
    "a=int(input(\"Enter first value\"))\n",
    "b=int(input(\"Enter second value\"))\n",
    "\n",
    "aPath=[]\n",
    "bPath=[]\n",
    "\n",
    "aPath=pathfetch(root,a,aPath)\n",
    "bPath=pathfetch(root,b,bPath)\n",
    "\n",
    "\n",
    "aPath=set(aPath)\n",
    "bPath=set(bPath)\n",
    "common=list(aPath&bPath)\n",
    "\n",
    "commPath=list(reversed(common))\n",
    "if(len(commPath)>2):\n",
    "    print(commPath[0],\"  \",commPath[1])\n",
    "else:\n",
    "    print(commPath[0])"
   ]
  },
  {
   "cell_type": "markdown",
   "metadata": {},
   "source": [
    "Question 3"
   ]
  },
  {
   "cell_type": "code",
   "execution_count": 50,
   "metadata": {},
   "outputs": [
    {
     "name": "stdout",
     "output_type": "stream",
     "text": [
      "Enter Stringaaabccddd\n",
      "abd\n"
     ]
    }
   ],
   "source": [
    "string=input(\"Enter String\")\n",
    "sList=[]\n",
    "sList[:]=string\n",
    "#print(sList)\n",
    "\n",
    "i=0\n",
    "ans=\"\"\n",
    "while (i<len(sList)-1):\n",
    "    \n",
    "    if (sList[i]==sList[i+1]):\n",
    "        i+=2\n",
    "    else:\n",
    "        ans=ans+sList[i]\n",
    "        i+=1\n",
    "        \n",
    "if(len(sList)%2==1):\n",
    "    ans=ans+sList[-1]\n",
    "print(ans)\n"
   ]
  },
  {
   "cell_type": "markdown",
   "metadata": {},
   "source": [
    "Question 3"
   ]
  },
  {
   "cell_type": "code",
   "execution_count": 1,
   "metadata": {},
   "outputs": [],
   "source": [
    "import requests"
   ]
  },
  {
   "cell_type": "code",
   "execution_count": 5,
   "metadata": {},
   "outputs": [],
   "source": [
    "url=\"https://www.kaggle.com/thoolihan/los-angeles-1992-riot-deaths-from-la-times?select=la-riots-deaths.csv\"\n",
    "req = requests.get(url)\n",
    "content = req.content"
   ]
  },
  {
   "cell_type": "code",
   "execution_count": null,
   "metadata": {},
   "outputs": [],
   "source": []
  }
 ],
 "metadata": {
  "kernelspec": {
   "display_name": "Python 3",
   "language": "python",
   "name": "python3"
  },
  "language_info": {
   "codemirror_mode": {
    "name": "ipython",
    "version": 3
   },
   "file_extension": ".py",
   "mimetype": "text/x-python",
   "name": "python",
   "nbconvert_exporter": "python",
   "pygments_lexer": "ipython3",
   "version": "3.6.5"
  }
 },
 "nbformat": 4,
 "nbformat_minor": 2
}
